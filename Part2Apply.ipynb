{
 "cells": [
  {
   "cell_type": "code",
   "execution_count": 1,
   "metadata": {},
   "outputs": [],
   "source": [
    "# Initial imports\n",
    "import pandas as pd\n",
    "import matplotlib.pyplot as plt\n",
    "from pathlib import Path\n",
    "from sklearn.preprocessing import StandardScaler\n",
    "from sklearn.decomposition import PCA\n",
    "from sklearn.cluster import KMeans\n",
    "from sklearn.manifold import TSNE"
   ]
  },
  {
   "cell_type": "code",
   "execution_count": 2,
   "metadata": {},
   "outputs": [
    {
     "data": {
      "text/html": [
       "<div>\n",
       "<style scoped>\n",
       "    .dataframe tbody tr th:only-of-type {\n",
       "        vertical-align: middle;\n",
       "    }\n",
       "\n",
       "    .dataframe tbody tr th {\n",
       "        vertical-align: top;\n",
       "    }\n",
       "\n",
       "    .dataframe thead th {\n",
       "        text-align: right;\n",
       "    }\n",
       "</style>\n",
       "<table border=\"1\" class=\"dataframe\">\n",
       "  <thead>\n",
       "    <tr style=\"text-align: right;\">\n",
       "      <th></th>\n",
       "      <th>AGE</th>\n",
       "      <th>SPHEQ</th>\n",
       "      <th>AL</th>\n",
       "      <th>ACD</th>\n",
       "      <th>LT</th>\n",
       "      <th>VCD</th>\n",
       "      <th>SPORTHR</th>\n",
       "      <th>READHR</th>\n",
       "      <th>COMPHR</th>\n",
       "      <th>STUDYHR</th>\n",
       "      <th>TVHR</th>\n",
       "      <th>DIOPTERHR</th>\n",
       "      <th>MOMMY</th>\n",
       "      <th>DADMY</th>\n",
       "    </tr>\n",
       "  </thead>\n",
       "  <tbody>\n",
       "    <tr>\n",
       "      <th>0</th>\n",
       "      <td>-0.420219</td>\n",
       "      <td>-1.363917</td>\n",
       "      <td>-0.892861</td>\n",
       "      <td>0.483784</td>\n",
       "      <td>-0.281443</td>\n",
       "      <td>-1.019792</td>\n",
       "      <td>4.150661</td>\n",
       "      <td>1.697450</td>\n",
       "      <td>0</td>\n",
       "      <td>-0.672996</td>\n",
       "      <td>0.184058</td>\n",
       "      <td>0.498304</td>\n",
       "      <td>0.987138</td>\n",
       "      <td>1.003241</td>\n",
       "    </tr>\n",
       "    <tr>\n",
       "      <th>1</th>\n",
       "      <td>-0.420219</td>\n",
       "      <td>-0.308612</td>\n",
       "      <td>-0.171840</td>\n",
       "      <td>0.535910</td>\n",
       "      <td>-0.967997</td>\n",
       "      <td>-0.130763</td>\n",
       "      <td>-0.998898</td>\n",
       "      <td>-0.912062</td>\n",
       "      <td>1</td>\n",
       "      <td>-0.221409</td>\n",
       "      <td>-0.340932</td>\n",
       "      <td>-0.875088</td>\n",
       "      <td>0.987138</td>\n",
       "      <td>1.003241</td>\n",
       "    </tr>\n",
       "    <tr>\n",
       "      <th>2</th>\n",
       "      <td>-0.420219</td>\n",
       "      <td>0.604386</td>\n",
       "      <td>-0.009977</td>\n",
       "      <td>-0.506628</td>\n",
       "      <td>-0.177812</td>\n",
       "      <td>0.215809</td>\n",
       "      <td>0.257092</td>\n",
       "      <td>-0.912062</td>\n",
       "      <td>2</td>\n",
       "      <td>-0.672996</td>\n",
       "      <td>0.184058</td>\n",
       "      <td>-0.750234</td>\n",
       "      <td>-1.013030</td>\n",
       "      <td>-0.996769</td>\n",
       "    </tr>\n",
       "    <tr>\n",
       "      <th>3</th>\n",
       "      <td>-0.420219</td>\n",
       "      <td>-0.441325</td>\n",
       "      <td>-0.436703</td>\n",
       "      <td>1.230936</td>\n",
       "      <td>0.456927</td>\n",
       "      <td>-0.974587</td>\n",
       "      <td>0.759488</td>\n",
       "      <td>2.676017</td>\n",
       "      <td>0</td>\n",
       "      <td>-0.672996</td>\n",
       "      <td>-0.865922</td>\n",
       "      <td>0.685585</td>\n",
       "      <td>-1.013030</td>\n",
       "      <td>1.003241</td>\n",
       "    </tr>\n",
       "    <tr>\n",
       "      <th>4</th>\n",
       "      <td>-1.823978</td>\n",
       "      <td>-0.166306</td>\n",
       "      <td>1.167204</td>\n",
       "      <td>0.422970</td>\n",
       "      <td>-0.566427</td>\n",
       "      <td>1.180178</td>\n",
       "      <td>0.257092</td>\n",
       "      <td>-0.912062</td>\n",
       "      <td>0</td>\n",
       "      <td>-0.672996</td>\n",
       "      <td>-0.865922</td>\n",
       "      <td>-1.374503</td>\n",
       "      <td>0.987138</td>\n",
       "      <td>-0.996769</td>\n",
       "    </tr>\n",
       "  </tbody>\n",
       "</table>\n",
       "</div>"
      ],
      "text/plain": [
       "        AGE     SPHEQ        AL       ACD        LT       VCD   SPORTHR  \\\n",
       "0 -0.420219 -1.363917 -0.892861  0.483784 -0.281443 -1.019792  4.150661   \n",
       "1 -0.420219 -0.308612 -0.171840  0.535910 -0.967997 -0.130763 -0.998898   \n",
       "2 -0.420219  0.604386 -0.009977 -0.506628 -0.177812  0.215809  0.257092   \n",
       "3 -0.420219 -0.441325 -0.436703  1.230936  0.456927 -0.974587  0.759488   \n",
       "4 -1.823978 -0.166306  1.167204  0.422970 -0.566427  1.180178  0.257092   \n",
       "\n",
       "     READHR  COMPHR   STUDYHR      TVHR  DIOPTERHR     MOMMY     DADMY  \n",
       "0  1.697450       0 -0.672996  0.184058   0.498304  0.987138  1.003241  \n",
       "1 -0.912062       1 -0.221409 -0.340932  -0.875088  0.987138  1.003241  \n",
       "2 -0.912062       2 -0.672996  0.184058  -0.750234 -1.013030 -0.996769  \n",
       "3  2.676017       0 -0.672996 -0.865922   0.685585 -1.013030  1.003241  \n",
       "4 -0.912062       0 -0.672996 -0.865922  -1.374503  0.987138 -0.996769  "
      ]
     },
     "execution_count": 2,
     "metadata": {},
     "output_type": "execute_result"
    }
   ],
   "source": [
    "# Loading the preprocessed iris dataset\n",
    "file_path = Path(\"Resources/myopia_data_cleaned.csv\")\n",
    "df_myopia = pd.read_csv(file_path)\n",
    "df_myopia.head()"
   ]
  },
  {
   "cell_type": "code",
   "execution_count": 3,
   "metadata": {},
   "outputs": [
    {
     "name": "stdout",
     "output_type": "stream",
     "text": [
      "[[-0.42021911 -1.3639169  -0.89286146  0.48378402 -0.28144315 -1.0197916\n",
      "   4.1506609   1.69744958 -0.68931054 -0.67299591  0.18405806  0.49830393\n",
      "   0.98713773  1.0032415 ]\n",
      " [-0.42021911 -0.30861224 -0.1718398   0.53591028 -0.96799728 -0.13076253\n",
      "  -0.99889822 -0.91206246 -0.36187479 -0.22140908 -0.34093217 -0.87508755\n",
      "   0.98713773  1.0032415 ]\n",
      " [-0.42021911  0.60438629 -0.00997682 -0.5066285  -0.17781207  0.21580879\n",
      "   0.25709181 -0.91206246 -0.03443904 -0.67299591  0.18405806 -0.75023378\n",
      "  -1.01302987 -0.99676897]\n",
      " [-0.42021911 -0.4413248  -0.43670267  1.23093648  0.4569273  -0.97458715\n",
      "   0.75948782  2.6760166  -0.68931054 -0.67299591 -0.86592239  0.68558458\n",
      "  -1.01302987  1.0032415 ]\n",
      " [-1.82397807 -0.16630592  1.16720365  0.42296952 -0.56642745  1.18017813\n",
      "   0.25709181 -0.91206246 -0.68931054 -0.67299591 -0.86592239 -1.37450264\n",
      "   0.98713773 -0.99676897]]\n"
     ]
    }
   ],
   "source": [
    "# Standarize data with StandarScaler\n",
    "myopia_scaled = StandardScaler().fit_transform(df_myopia)\n",
    "print(myopia_scaled[0:5])"
   ]
  },
  {
   "cell_type": "code",
   "execution_count": 4,
   "metadata": {},
   "outputs": [],
   "source": [
    "# Applying PCA to reduce dimensions \n",
    "\n",
    "# Initialize PCA model\n",
    "pca = PCA(n_components=0.90)\n",
    "\n",
    "# Get two principal components for the iris data.\n",
    "myopia_pca = pca.fit_transform(myopia_scaled)"
   ]
  },
  {
   "cell_type": "code",
   "execution_count": 5,
   "metadata": {},
   "outputs": [
    {
     "data": {
      "text/html": [
       "<div>\n",
       "<style scoped>\n",
       "    .dataframe tbody tr th:only-of-type {\n",
       "        vertical-align: middle;\n",
       "    }\n",
       "\n",
       "    .dataframe tbody tr th {\n",
       "        vertical-align: top;\n",
       "    }\n",
       "\n",
       "    .dataframe thead th {\n",
       "        text-align: right;\n",
       "    }\n",
       "</style>\n",
       "<table border=\"1\" class=\"dataframe\">\n",
       "  <thead>\n",
       "    <tr style=\"text-align: right;\">\n",
       "      <th></th>\n",
       "      <th>0</th>\n",
       "      <th>1</th>\n",
       "      <th>2</th>\n",
       "      <th>3</th>\n",
       "      <th>4</th>\n",
       "      <th>5</th>\n",
       "      <th>6</th>\n",
       "      <th>7</th>\n",
       "      <th>8</th>\n",
       "      <th>9</th>\n",
       "    </tr>\n",
       "  </thead>\n",
       "  <tbody>\n",
       "    <tr>\n",
       "      <th>0</th>\n",
       "      <td>0.535503</td>\n",
       "      <td>1.145004</td>\n",
       "      <td>-1.385019</td>\n",
       "      <td>0.116006</td>\n",
       "      <td>-3.226691</td>\n",
       "      <td>-1.928459</td>\n",
       "      <td>-1.958892</td>\n",
       "      <td>-1.922997</td>\n",
       "      <td>0.026753</td>\n",
       "      <td>0.178144</td>\n",
       "    </tr>\n",
       "    <tr>\n",
       "      <th>1</th>\n",
       "      <td>-0.624706</td>\n",
       "      <td>-1.575786</td>\n",
       "      <td>-0.794253</td>\n",
       "      <td>1.156287</td>\n",
       "      <td>0.292256</td>\n",
       "      <td>0.349060</td>\n",
       "      <td>-0.455206</td>\n",
       "      <td>0.285332</td>\n",
       "      <td>0.689683</td>\n",
       "      <td>-0.557031</td>\n",
       "    </tr>\n",
       "    <tr>\n",
       "      <th>2</th>\n",
       "      <td>-0.933479</td>\n",
       "      <td>-0.717076</td>\n",
       "      <td>0.820150</td>\n",
       "      <td>-1.547638</td>\n",
       "      <td>0.173941</td>\n",
       "      <td>0.272783</td>\n",
       "      <td>0.025821</td>\n",
       "      <td>-0.030817</td>\n",
       "      <td>-0.431499</td>\n",
       "      <td>0.013336</td>\n",
       "    </tr>\n",
       "    <tr>\n",
       "      <th>3</th>\n",
       "      <td>0.106354</td>\n",
       "      <td>1.192475</td>\n",
       "      <td>-0.024441</td>\n",
       "      <td>1.507469</td>\n",
       "      <td>-2.356836</td>\n",
       "      <td>-0.023139</td>\n",
       "      <td>0.236418</td>\n",
       "      <td>-1.717109</td>\n",
       "      <td>-1.230785</td>\n",
       "      <td>-0.703400</td>\n",
       "    </tr>\n",
       "    <tr>\n",
       "      <th>4</th>\n",
       "      <td>-0.388503</td>\n",
       "      <td>-2.839655</td>\n",
       "      <td>-0.229767</td>\n",
       "      <td>-0.622510</td>\n",
       "      <td>0.271458</td>\n",
       "      <td>-0.928956</td>\n",
       "      <td>0.537900</td>\n",
       "      <td>-1.301787</td>\n",
       "      <td>0.279007</td>\n",
       "      <td>0.631183</td>\n",
       "    </tr>\n",
       "  </tbody>\n",
       "</table>\n",
       "</div>"
      ],
      "text/plain": [
       "          0         1         2         3         4         5         6  \\\n",
       "0  0.535503  1.145004 -1.385019  0.116006 -3.226691 -1.928459 -1.958892   \n",
       "1 -0.624706 -1.575786 -0.794253  1.156287  0.292256  0.349060 -0.455206   \n",
       "2 -0.933479 -0.717076  0.820150 -1.547638  0.173941  0.272783  0.025821   \n",
       "3  0.106354  1.192475 -0.024441  1.507469 -2.356836 -0.023139  0.236418   \n",
       "4 -0.388503 -2.839655 -0.229767 -0.622510  0.271458 -0.928956  0.537900   \n",
       "\n",
       "          7         8         9  \n",
       "0 -1.922997  0.026753  0.178144  \n",
       "1  0.285332  0.689683 -0.557031  \n",
       "2 -0.030817 -0.431499  0.013336  \n",
       "3 -1.717109 -1.230785 -0.703400  \n",
       "4 -1.301787  0.279007  0.631183  "
      ]
     },
     "execution_count": 5,
     "metadata": {},
     "output_type": "execute_result"
    }
   ],
   "source": [
    "# Transform PCA data to a DataFrame\n",
    "myopia_pca = pd.DataFrame(\n",
    "    data=myopia_pca)\n",
    "myopia_pca.head()"
   ]
  },
  {
   "cell_type": "code",
   "execution_count": 6,
   "metadata": {},
   "outputs": [
    {
     "data": {
      "text/plain": [
       "array([0.21177355, 0.15659716, 0.08688023, 0.08301762, 0.07584858,\n",
       "       0.06997878, 0.06486986, 0.06377808, 0.05393666, 0.05205566])"
      ]
     },
     "execution_count": 6,
     "metadata": {},
     "output_type": "execute_result"
    }
   ],
   "source": [
    "# Fetch the explained variance\n",
    "pca.explained_variance_ratio_"
   ]
  },
  {
   "cell_type": "code",
   "execution_count": 7,
   "metadata": {},
   "outputs": [],
   "source": [
    "file_path = 'Resources/myopia_data_cleaned.csv'"
   ]
  },
  {
   "cell_type": "code",
   "execution_count": 8,
   "metadata": {},
   "outputs": [],
   "source": [
    "mycleaned_df = pd.read_csv(file_path)"
   ]
  },
  {
   "cell_type": "code",
   "execution_count": 9,
   "metadata": {},
   "outputs": [
    {
     "data": {
      "text/html": [
       "<div>\n",
       "<style scoped>\n",
       "    .dataframe tbody tr th:only-of-type {\n",
       "        vertical-align: middle;\n",
       "    }\n",
       "\n",
       "    .dataframe tbody tr th {\n",
       "        vertical-align: top;\n",
       "    }\n",
       "\n",
       "    .dataframe thead th {\n",
       "        text-align: right;\n",
       "    }\n",
       "</style>\n",
       "<table border=\"1\" class=\"dataframe\">\n",
       "  <thead>\n",
       "    <tr style=\"text-align: right;\">\n",
       "      <th></th>\n",
       "      <th>AGE</th>\n",
       "      <th>SPHEQ</th>\n",
       "      <th>AL</th>\n",
       "      <th>ACD</th>\n",
       "      <th>LT</th>\n",
       "      <th>VCD</th>\n",
       "      <th>SPORTHR</th>\n",
       "      <th>READHR</th>\n",
       "      <th>COMPHR</th>\n",
       "      <th>STUDYHR</th>\n",
       "      <th>TVHR</th>\n",
       "      <th>DIOPTERHR</th>\n",
       "      <th>MOMMY</th>\n",
       "      <th>DADMY</th>\n",
       "    </tr>\n",
       "  </thead>\n",
       "  <tbody>\n",
       "    <tr>\n",
       "      <th>292</th>\n",
       "      <td>-0.420219</td>\n",
       "      <td>-0.047984</td>\n",
       "      <td>0.622757</td>\n",
       "      <td>0.822608</td>\n",
       "      <td>0.819635</td>\n",
       "      <td>0.170603</td>\n",
       "      <td>-0.622101</td>\n",
       "      <td>1.045072</td>\n",
       "      <td>4</td>\n",
       "      <td>-0.221409</td>\n",
       "      <td>-0.515929</td>\n",
       "      <td>0.560731</td>\n",
       "      <td>0.987138</td>\n",
       "      <td>-0.996769</td>\n",
       "    </tr>\n",
       "    <tr>\n",
       "      <th>348</th>\n",
       "      <td>2.387299</td>\n",
       "      <td>-0.951389</td>\n",
       "      <td>0.843478</td>\n",
       "      <td>0.362154</td>\n",
       "      <td>0.638282</td>\n",
       "      <td>0.592516</td>\n",
       "      <td>0.759488</td>\n",
       "      <td>0.392694</td>\n",
       "      <td>0</td>\n",
       "      <td>1.584938</td>\n",
       "      <td>0.884045</td>\n",
       "      <td>0.935292</td>\n",
       "      <td>-1.013030</td>\n",
       "      <td>1.003241</td>\n",
       "    </tr>\n",
       "    <tr>\n",
       "      <th>97</th>\n",
       "      <td>-0.420219</td>\n",
       "      <td>-1.624545</td>\n",
       "      <td>0.755190</td>\n",
       "      <td>1.117995</td>\n",
       "      <td>-0.294396</td>\n",
       "      <td>0.441832</td>\n",
       "      <td>-1.124497</td>\n",
       "      <td>-0.912062</td>\n",
       "      <td>0</td>\n",
       "      <td>-0.672996</td>\n",
       "      <td>-1.040919</td>\n",
       "      <td>-1.436930</td>\n",
       "      <td>0.987138</td>\n",
       "      <td>1.003241</td>\n",
       "    </tr>\n",
       "    <tr>\n",
       "      <th>394</th>\n",
       "      <td>-1.823978</td>\n",
       "      <td>-1.036133</td>\n",
       "      <td>0.475609</td>\n",
       "      <td>1.170122</td>\n",
       "      <td>0.366251</td>\n",
       "      <td>-0.010216</td>\n",
       "      <td>0.382691</td>\n",
       "      <td>-0.259684</td>\n",
       "      <td>2</td>\n",
       "      <td>-0.221409</td>\n",
       "      <td>-0.340932</td>\n",
       "      <td>-0.375672</td>\n",
       "      <td>0.987138</td>\n",
       "      <td>1.003241</td>\n",
       "    </tr>\n",
       "    <tr>\n",
       "      <th>102</th>\n",
       "      <td>-0.420219</td>\n",
       "      <td>-0.289425</td>\n",
       "      <td>0.151886</td>\n",
       "      <td>0.362154</td>\n",
       "      <td>-1.330705</td>\n",
       "      <td>0.336355</td>\n",
       "      <td>2.015478</td>\n",
       "      <td>1.371261</td>\n",
       "      <td>5</td>\n",
       "      <td>0.230178</td>\n",
       "      <td>-0.165935</td>\n",
       "      <td>1.185000</td>\n",
       "      <td>-1.013030</td>\n",
       "      <td>1.003241</td>\n",
       "    </tr>\n",
       "    <tr>\n",
       "      <th>582</th>\n",
       "      <td>-0.420219</td>\n",
       "      <td>-0.367773</td>\n",
       "      <td>1.711647</td>\n",
       "      <td>0.605413</td>\n",
       "      <td>-0.773690</td>\n",
       "      <td>1.722637</td>\n",
       "      <td>1.638681</td>\n",
       "      <td>-0.585873</td>\n",
       "      <td>0</td>\n",
       "      <td>-0.672996</td>\n",
       "      <td>-1.390913</td>\n",
       "      <td>-1.374503</td>\n",
       "      <td>0.987138</td>\n",
       "      <td>1.003241</td>\n",
       "    </tr>\n",
       "    <tr>\n",
       "      <th>250</th>\n",
       "      <td>-0.420219</td>\n",
       "      <td>-0.756317</td>\n",
       "      <td>0.872908</td>\n",
       "      <td>0.605413</td>\n",
       "      <td>0.728959</td>\n",
       "      <td>0.517174</td>\n",
       "      <td>-1.124497</td>\n",
       "      <td>-0.585873</td>\n",
       "      <td>2</td>\n",
       "      <td>-0.221409</td>\n",
       "      <td>2.809009</td>\n",
       "      <td>0.560731</td>\n",
       "      <td>-1.013030</td>\n",
       "      <td>-0.996769</td>\n",
       "    </tr>\n",
       "    <tr>\n",
       "      <th>566</th>\n",
       "      <td>-0.420219</td>\n",
       "      <td>-0.283029</td>\n",
       "      <td>-0.951719</td>\n",
       "      <td>-0.732511</td>\n",
       "      <td>1.817083</td>\n",
       "      <td>-1.140338</td>\n",
       "      <td>2.015478</td>\n",
       "      <td>1.371261</td>\n",
       "      <td>0</td>\n",
       "      <td>0.230178</td>\n",
       "      <td>-0.340932</td>\n",
       "      <td>0.498304</td>\n",
       "      <td>0.987138</td>\n",
       "      <td>-0.996769</td>\n",
       "    </tr>\n",
       "    <tr>\n",
       "      <th>305</th>\n",
       "      <td>-0.420219</td>\n",
       "      <td>-1.415083</td>\n",
       "      <td>1.226061</td>\n",
       "      <td>2.047593</td>\n",
       "      <td>-1.058674</td>\n",
       "      <td>0.788402</td>\n",
       "      <td>1.010686</td>\n",
       "      <td>-0.912062</td>\n",
       "      <td>0</td>\n",
       "      <td>0.230178</td>\n",
       "      <td>0.184058</td>\n",
       "      <td>-0.625380</td>\n",
       "      <td>0.987138</td>\n",
       "      <td>-0.996769</td>\n",
       "    </tr>\n",
       "    <tr>\n",
       "      <th>346</th>\n",
       "      <td>-1.823978</td>\n",
       "      <td>0.372539</td>\n",
       "      <td>-1.481450</td>\n",
       "      <td>-0.845453</td>\n",
       "      <td>1.182343</td>\n",
       "      <td>-1.501976</td>\n",
       "      <td>1.010686</td>\n",
       "      <td>-0.259684</td>\n",
       "      <td>2</td>\n",
       "      <td>0.230178</td>\n",
       "      <td>-1.215916</td>\n",
       "      <td>-0.500526</td>\n",
       "      <td>0.987138</td>\n",
       "      <td>-0.996769</td>\n",
       "    </tr>\n",
       "  </tbody>\n",
       "</table>\n",
       "</div>"
      ],
      "text/plain": [
       "          AGE     SPHEQ        AL       ACD        LT       VCD   SPORTHR  \\\n",
       "292 -0.420219 -0.047984  0.622757  0.822608  0.819635  0.170603 -0.622101   \n",
       "348  2.387299 -0.951389  0.843478  0.362154  0.638282  0.592516  0.759488   \n",
       "97  -0.420219 -1.624545  0.755190  1.117995 -0.294396  0.441832 -1.124497   \n",
       "394 -1.823978 -1.036133  0.475609  1.170122  0.366251 -0.010216  0.382691   \n",
       "102 -0.420219 -0.289425  0.151886  0.362154 -1.330705  0.336355  2.015478   \n",
       "582 -0.420219 -0.367773  1.711647  0.605413 -0.773690  1.722637  1.638681   \n",
       "250 -0.420219 -0.756317  0.872908  0.605413  0.728959  0.517174 -1.124497   \n",
       "566 -0.420219 -0.283029 -0.951719 -0.732511  1.817083 -1.140338  2.015478   \n",
       "305 -0.420219 -1.415083  1.226061  2.047593 -1.058674  0.788402  1.010686   \n",
       "346 -1.823978  0.372539 -1.481450 -0.845453  1.182343 -1.501976  1.010686   \n",
       "\n",
       "       READHR  COMPHR   STUDYHR      TVHR  DIOPTERHR     MOMMY     DADMY  \n",
       "292  1.045072       4 -0.221409 -0.515929   0.560731  0.987138 -0.996769  \n",
       "348  0.392694       0  1.584938  0.884045   0.935292 -1.013030  1.003241  \n",
       "97  -0.912062       0 -0.672996 -1.040919  -1.436930  0.987138  1.003241  \n",
       "394 -0.259684       2 -0.221409 -0.340932  -0.375672  0.987138  1.003241  \n",
       "102  1.371261       5  0.230178 -0.165935   1.185000 -1.013030  1.003241  \n",
       "582 -0.585873       0 -0.672996 -1.390913  -1.374503  0.987138  1.003241  \n",
       "250 -0.585873       2 -0.221409  2.809009   0.560731 -1.013030 -0.996769  \n",
       "566  1.371261       0  0.230178 -0.340932   0.498304  0.987138 -0.996769  \n",
       "305 -0.912062       0  0.230178  0.184058  -0.625380  0.987138 -0.996769  \n",
       "346 -0.259684       2  0.230178 -1.215916  -0.500526  0.987138 -0.996769  "
      ]
     },
     "execution_count": 9,
     "metadata": {},
     "output_type": "execute_result"
    }
   ],
   "source": [
    "mycleaned_df.sample(10)"
   ]
  },
  {
   "cell_type": "code",
   "execution_count": 10,
   "metadata": {},
   "outputs": [],
   "source": [
    "# Create a new dataframe for t-SNE\n",
    "mycleaned_df = mycleaned_df.drop(['COMPHR'],axis =1)\n",
    "labels = mycleaned_df"
   ]
  },
  {
   "cell_type": "code",
   "execution_count": 11,
   "metadata": {},
   "outputs": [],
   "source": [
    "# Initialize t-SNE model\n",
    "tsne = TSNE(learning_rate=45)"
   ]
  },
  {
   "cell_type": "code",
   "execution_count": 12,
   "metadata": {},
   "outputs": [],
   "source": [
    "# Reduce dimensions\n",
    "tsne_features = tsne.fit_transform(mycleaned_df)"
   ]
  },
  {
   "cell_type": "code",
   "execution_count": 13,
   "metadata": {},
   "outputs": [
    {
     "data": {
      "text/plain": [
       "(618, 2)"
      ]
     },
     "execution_count": 13,
     "metadata": {},
     "output_type": "execute_result"
    }
   ],
   "source": [
    "# The dataset has 2 columns\n",
    "tsne_features.shape"
   ]
  },
  {
   "cell_type": "code",
   "execution_count": 14,
   "metadata": {},
   "outputs": [],
   "source": [
    "# Prepare to plot the dataset\n",
    "\n",
    "# The first column of transformed features\n",
    "mycleaned_df['x'] = tsne_features[:,0]\n",
    "\n",
    "# The second column of transformed features\n",
    "mycleaned_df['y'] = tsne_features[:,1]"
   ]
  },
  {
   "cell_type": "code",
   "execution_count": 15,
   "metadata": {},
   "outputs": [
    {
     "data": {
      "image/png": "[encoded data removed]",
      "text/plain": [
       "<Figure size 432x288 with 1 Axes>"
      ]
     },
     "metadata": {
      "needs_background": "light"
     },
     "output_type": "display_data"
    }
   ],
   "source": [
    "# Visualize the clusters\n",
    "plt.scatter(mycleaned_df['x'], mycleaned_df['y'])\n",
    "plt.show()"
   ]
  },
  {
   "cell_type": "code",
   "execution_count": 16,
   "metadata": {},
   "outputs": [
    {
     "data": {
      "text/plain": [
       "AGE        SPHEQ      AL         ACD        LT         VCD        SPORTHR    READHR     STUDYHR    TVHR       DIOPTERHR  MOMMY      DADMY      x           y         \n",
       "-1.823978  -1.487036   0.652187   1.117995  -1.874766   0.713062   1.010686  -0.912062  -0.672996  -0.865922  -1.374503   0.987138  -0.996769   13.978418   14.657088    1\n",
       "-0.420219   0.896993  -1.025294  -0.732511   3.695392  -1.667727   0.382691  -0.912062  -0.672996  -0.515929  -0.999941   0.987138  -0.996769  -13.738648   15.790623    1\n",
       "            0.849025  -1.084152  -1.653421   0.819635  -0.733493   1.010686   0.066505  -0.221409   0.184058  -0.001111   0.987138  -0.996769   0.603790    8.212148     1\n",
       "            0.852223  -0.995864  -0.619569   0.456927  -0.914313  -0.496502  -0.259684   0.230178  -1.040919  -0.562953   0.987138   1.003241  -7.482264    2.175855     1\n",
       "            0.861817  -1.908176  -1.080025  -1.784090  -1.170474   1.010686  -0.912062  -0.672996   0.184058  -0.875088   0.987138   1.003241  -9.404408    5.275670     1\n",
       "                                                                                                                                                                        ..\n",
       "           -0.191889   0.063599   0.014641   1.363698  -0.251309  -0.119705   0.392694  -0.221409   1.234039   0.810438   0.987138   1.003241  -3.037909   -7.463236     1\n",
       "           -0.188691  -0.245412  -1.705547   0.728959   0.170603   0.005894   1.371261  -0.221409  -0.165935   0.623158  -1.013030   1.003241  -18.673138  -18.034548    1\n",
       "                       0.004738   0.023330   0.910312  -0.206104  -0.245304  -0.912062  -0.672996  -0.340932  -0.562953   0.987138  -0.996769   1.829068    12.364683    1\n",
       "           -0.187092   1.284921   1.230936   0.638282   0.728129  -0.245304   1.697450  -0.672996  -1.215916   0.123743  -1.013030   1.003241  -4.894787   -15.575509    1\n",
       " 3.791058   0.906587   1.844080   1.960715  -3.766030   2.084276  -0.370903  -0.259684   1.584938  -0.340932   0.248596  -1.013030  -0.996769   26.984554  -0.279420     1\n",
       "Length: 618, dtype: int64"
      ]
     },
     "execution_count": 16,
     "metadata": {},
     "output_type": "execute_result"
    }
   ],
   "source": [
    "labels.value_counts()"
   ]
  },
  {
   "cell_type": "code",
   "execution_count": 17,
   "metadata": {},
   "outputs": [
    {
     "ename": "ValueError",
     "evalue": "'c' argument must be a color, a sequence of colors, or a sequence of numbers, not           AGE     SPHEQ        AL       ACD        LT       VCD   SPORTHR  \\\n0   -0.420219 -1.363917 -0.892861  0.483784 -0.281443 -1.019792  4.150661   \n1   -0.420219 -0.308612 -0.171840  0.535910 -0.967997 -0.130763 -0.998898   \n2   -0.420219  0.604386 -0.009977 -0.506628 -0.177812  0.215809  0.257092   \n3   -0.420219 -0.441325 -0.436703  1.230936  0.456927 -0.974587  0.759488   \n4   -1.823978 -0.166306  1.167204  0.422970 -0.566427  1.180178  0.257092   \n..        ...       ...       ...       ...       ...       ...       ...   \n613 -0.420219 -0.196686 -0.142410  0.366499  1.694021 -0.673220 -1.250096   \n614 -0.420219 -0.217472  0.004738 -0.037486 -1.058674  0.276082 -0.747700   \n615 -0.420219  1.651696  0.652187  0.197086 -0.760735  0.773335 -0.496502   \n616 -0.420219 -0.217472 -0.848716  0.475096  0.366251 -1.110201  0.005894   \n617 -0.420219  0.001583 -0.348415 -0.211242 -0.372120 -0.191036  1.638681   \n\n       READHR   STUDYHR      TVHR  DIOPTERHR     MOMMY     DADMY          x  \\\n0    1.697450 -0.672996  0.184058   0.498304  0.987138  1.003241  13.261370   \n1   -0.912062 -0.221409 -0.340932  -0.875088  0.987138  1.003241  -0.784409   \n2   -0.912062 -0.672996  0.184058  -0.750234 -1.013030 -0.996769  -2.427552   \n3    2.676017 -0.672996 -0.865922   0.685585 -1.013030  1.003241 -12.101710   \n4   -0.912062 -0.672996 -0.865922  -1.374503  0.987138 -0.996769  13.028265   \n..        ...       ...       ...        ...       ...       ...        ...   \n613 -0.912062  0.681765  0.884045   0.685585  0.987138 -0.996769   1.004949   \n614 -0.912062 -0.672996 -0.165935  -0.999941  0.987138  1.003241  -0.122220   \n615 -0.912062 -0.672996 -0.865922  -1.374503  0.987138  1.003241   2.188279   \n616 -0.259684 -0.672996  1.059042  -0.188392 -1.013030 -0.996769 -10.624427   \n617 -0.912062 -0.672996  0.184058  -0.750234  0.987138  1.003241   2.422485   \n\n             y  \n0   -19.659344  \n1     1.304258  \n2    27.268339  \n3   -23.415033  \n4    15.104553  \n..         ...  \n613  11.030565  \n614   1.292108  \n615   2.128943  \n616  19.239626  \n617  -4.157116  \n\n[618 rows x 15 columns]",
     "output_type": "error",
     "traceback": [
      "\u001b[1;31m---------------------------------------------------------------------------\u001b[0m",
      "\u001b[1;31mValueError\u001b[0m                                Traceback (most recent call last)",
      "\u001b[1;32m~\\anaconda3\\lib\\site-packages\\matplotlib\\axes\\_axes.py\u001b[0m in \u001b[0;36m_parse_scatter_color_args\u001b[1;34m(c, edgecolors, kwargs, xsize, get_next_color_func)\u001b[0m\n\u001b[0;32m   4349\u001b[0m             \u001b[1;32mtry\u001b[0m\u001b[1;33m:\u001b[0m  \u001b[1;31m# Is 'c' acceptable as PathCollection facecolors?\u001b[0m\u001b[1;33m\u001b[0m\u001b[1;33m\u001b[0m\u001b[0m\n\u001b[1;32m-> 4350\u001b[1;33m                 \u001b[0mcolors\u001b[0m \u001b[1;33m=\u001b[0m \u001b[0mmcolors\u001b[0m\u001b[1;33m.\u001b[0m\u001b[0mto_rgba_array\u001b[0m\u001b[1;33m(\u001b[0m\u001b[0mc\u001b[0m\u001b[1;33m)\u001b[0m\u001b[1;33m\u001b[0m\u001b[1;33m\u001b[0m\u001b[0m\n\u001b[0m\u001b[0;32m   4351\u001b[0m             \u001b[1;32mexcept\u001b[0m \u001b[1;33m(\u001b[0m\u001b[0mTypeError\u001b[0m\u001b[1;33m,\u001b[0m \u001b[0mValueError\u001b[0m\u001b[1;33m)\u001b[0m \u001b[1;32mas\u001b[0m \u001b[0merr\u001b[0m\u001b[1;33m:\u001b[0m\u001b[1;33m\u001b[0m\u001b[1;33m\u001b[0m\u001b[0m\n",
      "\u001b[1;32m~\\anaconda3\\lib\\site-packages\\matplotlib\\colors.py\u001b[0m in \u001b[0;36mto_rgba_array\u001b[1;34m(c, alpha)\u001b[0m\n\u001b[0;32m    384\u001b[0m     \u001b[1;32melse\u001b[0m\u001b[1;33m:\u001b[0m\u001b[1;33m\u001b[0m\u001b[1;33m\u001b[0m\u001b[0m\n\u001b[1;32m--> 385\u001b[1;33m         \u001b[0mrgba\u001b[0m \u001b[1;33m=\u001b[0m \u001b[0mnp\u001b[0m\u001b[1;33m.\u001b[0m\u001b[0marray\u001b[0m\u001b[1;33m(\u001b[0m\u001b[1;33m[\u001b[0m\u001b[0mto_rgba\u001b[0m\u001b[1;33m(\u001b[0m\u001b[0mcc\u001b[0m\u001b[1;33m)\u001b[0m \u001b[1;32mfor\u001b[0m \u001b[0mcc\u001b[0m \u001b[1;32min\u001b[0m \u001b[0mc\u001b[0m\u001b[1;33m]\u001b[0m\u001b[1;33m)\u001b[0m\u001b[1;33m\u001b[0m\u001b[1;33m\u001b[0m\u001b[0m\n\u001b[0m\u001b[0;32m    386\u001b[0m \u001b[1;33m\u001b[0m\u001b[0m\n",
      "\u001b[1;32m~\\anaconda3\\lib\\site-packages\\matplotlib\\colors.py\u001b[0m in \u001b[0;36m<listcomp>\u001b[1;34m(.0)\u001b[0m\n\u001b[0;32m    384\u001b[0m     \u001b[1;32melse\u001b[0m\u001b[1;33m:\u001b[0m\u001b[1;33m\u001b[0m\u001b[1;33m\u001b[0m\u001b[0m\n\u001b[1;32m--> 385\u001b[1;33m         \u001b[0mrgba\u001b[0m \u001b[1;33m=\u001b[0m \u001b[0mnp\u001b[0m\u001b[1;33m.\u001b[0m\u001b[0marray\u001b[0m\u001b[1;33m(\u001b[0m\u001b[1;33m[\u001b[0m\u001b[0mto_rgba\u001b[0m\u001b[1;33m(\u001b[0m\u001b[0mcc\u001b[0m\u001b[1;33m)\u001b[0m \u001b[1;32mfor\u001b[0m \u001b[0mcc\u001b[0m \u001b[1;32min\u001b[0m \u001b[0mc\u001b[0m\u001b[1;33m]\u001b[0m\u001b[1;33m)\u001b[0m\u001b[1;33m\u001b[0m\u001b[1;33m\u001b[0m\u001b[0m\n\u001b[0m\u001b[0;32m    386\u001b[0m \u001b[1;33m\u001b[0m\u001b[0m\n",
      "\u001b[1;32m~\\anaconda3\\lib\\site-packages\\matplotlib\\colors.py\u001b[0m in \u001b[0;36mto_rgba\u001b[1;34m(c, alpha)\u001b[0m\n\u001b[0;32m    205\u001b[0m     \u001b[1;32mif\u001b[0m \u001b[0mrgba\u001b[0m \u001b[1;32mis\u001b[0m \u001b[1;32mNone\u001b[0m\u001b[1;33m:\u001b[0m  \u001b[1;31m# Suppress exception chaining of cache lookup failure.\u001b[0m\u001b[1;33m\u001b[0m\u001b[1;33m\u001b[0m\u001b[0m\n\u001b[1;32m--> 206\u001b[1;33m         \u001b[0mrgba\u001b[0m \u001b[1;33m=\u001b[0m \u001b[0m_to_rgba_no_colorcycle\u001b[0m\u001b[1;33m(\u001b[0m\u001b[0mc\u001b[0m\u001b[1;33m,\u001b[0m \u001b[0malpha\u001b[0m\u001b[1;33m)\u001b[0m\u001b[1;33m\u001b[0m\u001b[1;33m\u001b[0m\u001b[0m\n\u001b[0m\u001b[0;32m    207\u001b[0m         \u001b[1;32mtry\u001b[0m\u001b[1;33m:\u001b[0m\u001b[1;33m\u001b[0m\u001b[1;33m\u001b[0m\u001b[0m\n",
      "\u001b[1;32m~\\anaconda3\\lib\\site-packages\\matplotlib\\colors.py\u001b[0m in \u001b[0;36m_to_rgba_no_colorcycle\u001b[1;34m(c, alpha)\u001b[0m\n\u001b[0;32m    276\u001b[0m             \u001b[1;32mreturn\u001b[0m \u001b[0mc\u001b[0m\u001b[1;33m,\u001b[0m \u001b[0mc\u001b[0m\u001b[1;33m,\u001b[0m \u001b[0mc\u001b[0m\u001b[1;33m,\u001b[0m \u001b[0malpha\u001b[0m \u001b[1;32mif\u001b[0m \u001b[0malpha\u001b[0m \u001b[1;32mis\u001b[0m \u001b[1;32mnot\u001b[0m \u001b[1;32mNone\u001b[0m \u001b[1;32melse\u001b[0m \u001b[1;36m1.\u001b[0m\u001b[1;33m\u001b[0m\u001b[1;33m\u001b[0m\u001b[0m\n\u001b[1;32m--> 277\u001b[1;33m         \u001b[1;32mraise\u001b[0m \u001b[0mValueError\u001b[0m\u001b[1;33m(\u001b[0m\u001b[1;34mf\"Invalid RGBA argument: {orig_c!r}\"\u001b[0m\u001b[1;33m)\u001b[0m\u001b[1;33m\u001b[0m\u001b[1;33m\u001b[0m\u001b[0m\n\u001b[0m\u001b[0;32m    278\u001b[0m     \u001b[1;31m# turn 2-D array into 1-D array\u001b[0m\u001b[1;33m\u001b[0m\u001b[1;33m\u001b[0m\u001b[0m\n",
      "\u001b[1;31mValueError\u001b[0m: Invalid RGBA argument: 'AGE'",
      "\nThe above exception was the direct cause of the following exception:\n",
      "\u001b[1;31mValueError\u001b[0m                                Traceback (most recent call last)",
      "\u001b[1;32m~\\AppData\\Local\\Temp/ipykernel_106020/2718361598.py\u001b[0m in \u001b[0;36m<module>\u001b[1;34m\u001b[0m\n\u001b[0;32m      1\u001b[0m \u001b[1;31m# Visualize the clusters with color\u001b[0m\u001b[1;33m\u001b[0m\u001b[1;33m\u001b[0m\u001b[0m\n\u001b[1;32m----> 2\u001b[1;33m \u001b[0mplt\u001b[0m\u001b[1;33m.\u001b[0m\u001b[0mscatter\u001b[0m\u001b[1;33m(\u001b[0m\u001b[0mmycleaned_df\u001b[0m\u001b[1;33m[\u001b[0m\u001b[1;34m'x'\u001b[0m\u001b[1;33m]\u001b[0m\u001b[1;33m,\u001b[0m \u001b[0mmycleaned_df\u001b[0m\u001b[1;33m[\u001b[0m\u001b[1;34m'y'\u001b[0m\u001b[1;33m]\u001b[0m\u001b[1;33m,\u001b[0m\u001b[0mc\u001b[0m \u001b[1;33m=\u001b[0m \u001b[0mlabels\u001b[0m\u001b[1;33m)\u001b[0m\u001b[1;33m\u001b[0m\u001b[1;33m\u001b[0m\u001b[0m\n\u001b[0m\u001b[0;32m      3\u001b[0m \u001b[0mplt\u001b[0m\u001b[1;33m.\u001b[0m\u001b[0mshow\u001b[0m\u001b[1;33m(\u001b[0m\u001b[1;33m)\u001b[0m\u001b[1;33m\u001b[0m\u001b[1;33m\u001b[0m\u001b[0m\n",
      "\u001b[1;32m~\\anaconda3\\lib\\site-packages\\matplotlib\\pyplot.py\u001b[0m in \u001b[0;36mscatter\u001b[1;34m(x, y, s, c, marker, cmap, norm, vmin, vmax, alpha, linewidths, edgecolors, plotnonfinite, data, **kwargs)\u001b[0m\n\u001b[0;32m   3066\u001b[0m         \u001b[0mvmin\u001b[0m\u001b[1;33m=\u001b[0m\u001b[1;32mNone\u001b[0m\u001b[1;33m,\u001b[0m \u001b[0mvmax\u001b[0m\u001b[1;33m=\u001b[0m\u001b[1;32mNone\u001b[0m\u001b[1;33m,\u001b[0m \u001b[0malpha\u001b[0m\u001b[1;33m=\u001b[0m\u001b[1;32mNone\u001b[0m\u001b[1;33m,\u001b[0m \u001b[0mlinewidths\u001b[0m\u001b[1;33m=\u001b[0m\u001b[1;32mNone\u001b[0m\u001b[1;33m,\u001b[0m \u001b[1;33m*\u001b[0m\u001b[1;33m,\u001b[0m\u001b[1;33m\u001b[0m\u001b[1;33m\u001b[0m\u001b[0m\n\u001b[0;32m   3067\u001b[0m         edgecolors=None, plotnonfinite=False, data=None, **kwargs):\n\u001b[1;32m-> 3068\u001b[1;33m     __ret = gca().scatter(\n\u001b[0m\u001b[0;32m   3069\u001b[0m         \u001b[0mx\u001b[0m\u001b[1;33m,\u001b[0m \u001b[0my\u001b[0m\u001b[1;33m,\u001b[0m \u001b[0ms\u001b[0m\u001b[1;33m=\u001b[0m\u001b[0ms\u001b[0m\u001b[1;33m,\u001b[0m \u001b[0mc\u001b[0m\u001b[1;33m=\u001b[0m\u001b[0mc\u001b[0m\u001b[1;33m,\u001b[0m \u001b[0mmarker\u001b[0m\u001b[1;33m=\u001b[0m\u001b[0mmarker\u001b[0m\u001b[1;33m,\u001b[0m \u001b[0mcmap\u001b[0m\u001b[1;33m=\u001b[0m\u001b[0mcmap\u001b[0m\u001b[1;33m,\u001b[0m \u001b[0mnorm\u001b[0m\u001b[1;33m=\u001b[0m\u001b[0mnorm\u001b[0m\u001b[1;33m,\u001b[0m\u001b[1;33m\u001b[0m\u001b[1;33m\u001b[0m\u001b[0m\n\u001b[0;32m   3070\u001b[0m         \u001b[0mvmin\u001b[0m\u001b[1;33m=\u001b[0m\u001b[0mvmin\u001b[0m\u001b[1;33m,\u001b[0m \u001b[0mvmax\u001b[0m\u001b[1;33m=\u001b[0m\u001b[0mvmax\u001b[0m\u001b[1;33m,\u001b[0m \u001b[0malpha\u001b[0m\u001b[1;33m=\u001b[0m\u001b[0malpha\u001b[0m\u001b[1;33m,\u001b[0m \u001b[0mlinewidths\u001b[0m\u001b[1;33m=\u001b[0m\u001b[0mlinewidths\u001b[0m\u001b[1;33m,\u001b[0m\u001b[1;33m\u001b[0m\u001b[1;33m\u001b[0m\u001b[0m\n",
      "\u001b[1;32m~\\anaconda3\\lib\\site-packages\\matplotlib\\__init__.py\u001b[0m in \u001b[0;36minner\u001b[1;34m(ax, data, *args, **kwargs)\u001b[0m\n\u001b[0;32m   1359\u001b[0m     \u001b[1;32mdef\u001b[0m \u001b[0minner\u001b[0m\u001b[1;33m(\u001b[0m\u001b[0max\u001b[0m\u001b[1;33m,\u001b[0m \u001b[1;33m*\u001b[0m\u001b[0margs\u001b[0m\u001b[1;33m,\u001b[0m \u001b[0mdata\u001b[0m\u001b[1;33m=\u001b[0m\u001b[1;32mNone\u001b[0m\u001b[1;33m,\u001b[0m \u001b[1;33m**\u001b[0m\u001b[0mkwargs\u001b[0m\u001b[1;33m)\u001b[0m\u001b[1;33m:\u001b[0m\u001b[1;33m\u001b[0m\u001b[1;33m\u001b[0m\u001b[0m\n\u001b[0;32m   1360\u001b[0m         \u001b[1;32mif\u001b[0m \u001b[0mdata\u001b[0m \u001b[1;32mis\u001b[0m \u001b[1;32mNone\u001b[0m\u001b[1;33m:\u001b[0m\u001b[1;33m\u001b[0m\u001b[1;33m\u001b[0m\u001b[0m\n\u001b[1;32m-> 1361\u001b[1;33m             \u001b[1;32mreturn\u001b[0m \u001b[0mfunc\u001b[0m\u001b[1;33m(\u001b[0m\u001b[0max\u001b[0m\u001b[1;33m,\u001b[0m \u001b[1;33m*\u001b[0m\u001b[0mmap\u001b[0m\u001b[1;33m(\u001b[0m\u001b[0msanitize_sequence\u001b[0m\u001b[1;33m,\u001b[0m \u001b[0margs\u001b[0m\u001b[1;33m)\u001b[0m\u001b[1;33m,\u001b[0m \u001b[1;33m**\u001b[0m\u001b[0mkwargs\u001b[0m\u001b[1;33m)\u001b[0m\u001b[1;33m\u001b[0m\u001b[1;33m\u001b[0m\u001b[0m\n\u001b[0m\u001b[0;32m   1362\u001b[0m \u001b[1;33m\u001b[0m\u001b[0m\n\u001b[0;32m   1363\u001b[0m         \u001b[0mbound\u001b[0m \u001b[1;33m=\u001b[0m \u001b[0mnew_sig\u001b[0m\u001b[1;33m.\u001b[0m\u001b[0mbind\u001b[0m\u001b[1;33m(\u001b[0m\u001b[0max\u001b[0m\u001b[1;33m,\u001b[0m \u001b[1;33m*\u001b[0m\u001b[0margs\u001b[0m\u001b[1;33m,\u001b[0m \u001b[1;33m**\u001b[0m\u001b[0mkwargs\u001b[0m\u001b[1;33m)\u001b[0m\u001b[1;33m\u001b[0m\u001b[1;33m\u001b[0m\u001b[0m\n",
      "\u001b[1;32m~\\anaconda3\\lib\\site-packages\\matplotlib\\axes\\_axes.py\u001b[0m in \u001b[0;36mscatter\u001b[1;34m(self, x, y, s, c, marker, cmap, norm, vmin, vmax, alpha, linewidths, edgecolors, plotnonfinite, **kwargs)\u001b[0m\n\u001b[0;32m   4514\u001b[0m             \u001b[0morig_edgecolor\u001b[0m \u001b[1;33m=\u001b[0m \u001b[0mkwargs\u001b[0m\u001b[1;33m.\u001b[0m\u001b[0mget\u001b[0m\u001b[1;33m(\u001b[0m\u001b[1;34m'edgecolor'\u001b[0m\u001b[1;33m,\u001b[0m \u001b[1;32mNone\u001b[0m\u001b[1;33m)\u001b[0m\u001b[1;33m\u001b[0m\u001b[1;33m\u001b[0m\u001b[0m\n\u001b[0;32m   4515\u001b[0m         \u001b[0mc\u001b[0m\u001b[1;33m,\u001b[0m \u001b[0mcolors\u001b[0m\u001b[1;33m,\u001b[0m \u001b[0medgecolors\u001b[0m \u001b[1;33m=\u001b[0m\u001b[0;31m \u001b[0m\u001b[0;31m\\\u001b[0m\u001b[1;33m\u001b[0m\u001b[1;33m\u001b[0m\u001b[0m\n\u001b[1;32m-> 4516\u001b[1;33m             self._parse_scatter_color_args(\n\u001b[0m\u001b[0;32m   4517\u001b[0m                 \u001b[0mc\u001b[0m\u001b[1;33m,\u001b[0m \u001b[0medgecolors\u001b[0m\u001b[1;33m,\u001b[0m \u001b[0mkwargs\u001b[0m\u001b[1;33m,\u001b[0m \u001b[0mx\u001b[0m\u001b[1;33m.\u001b[0m\u001b[0msize\u001b[0m\u001b[1;33m,\u001b[0m\u001b[1;33m\u001b[0m\u001b[1;33m\u001b[0m\u001b[0m\n\u001b[0;32m   4518\u001b[0m                 get_next_color_func=self._get_patches_for_fill.get_next_color)\n",
      "\u001b[1;32m~\\anaconda3\\lib\\site-packages\\matplotlib\\axes\\_axes.py\u001b[0m in \u001b[0;36m_parse_scatter_color_args\u001b[1;34m(c, edgecolors, kwargs, xsize, get_next_color_func)\u001b[0m\n\u001b[0;32m   4357\u001b[0m                     \u001b[1;31m# Both the mapping *and* the RGBA conversion failed: pretty\u001b[0m\u001b[1;33m\u001b[0m\u001b[1;33m\u001b[0m\u001b[0m\n\u001b[0;32m   4358\u001b[0m                     \u001b[1;31m# severe failure => one may appreciate a verbose feedback.\u001b[0m\u001b[1;33m\u001b[0m\u001b[1;33m\u001b[0m\u001b[0m\n\u001b[1;32m-> 4359\u001b[1;33m                     raise ValueError(\n\u001b[0m\u001b[0;32m   4360\u001b[0m                         \u001b[1;34mf\"'c' argument must be a color, a sequence of colors, \"\u001b[0m\u001b[1;33m\u001b[0m\u001b[1;33m\u001b[0m\u001b[0m\n\u001b[0;32m   4361\u001b[0m                         f\"or a sequence of numbers, not {c}\") from err\n",
      "\u001b[1;31mValueError\u001b[0m: 'c' argument must be a color, a sequence of colors, or a sequence of numbers, not           AGE     SPHEQ        AL       ACD        LT       VCD   SPORTHR  \\\n0   -0.420219 -1.363917 -0.892861  0.483784 -0.281443 -1.019792  4.150661   \n1   -0.420219 -0.308612 -0.171840  0.535910 -0.967997 -0.130763 -0.998898   \n2   -0.420219  0.604386 -0.009977 -0.506628 -0.177812  0.215809  0.257092   \n3   -0.420219 -0.441325 -0.436703  1.230936  0.456927 -0.974587  0.759488   \n4   -1.823978 -0.166306  1.167204  0.422970 -0.566427  1.180178  0.257092   \n..        ...       ...       ...       ...       ...       ...       ...   \n613 -0.420219 -0.196686 -0.142410  0.366499  1.694021 -0.673220 -1.250096   \n614 -0.420219 -0.217472  0.004738 -0.037486 -1.058674  0.276082 -0.747700   \n615 -0.420219  1.651696  0.652187  0.197086 -0.760735  0.773335 -0.496502   \n616 -0.420219 -0.217472 -0.848716  0.475096  0.366251 -1.110201  0.005894   \n617 -0.420219  0.001583 -0.348415 -0.211242 -0.372120 -0.191036  1.638681   \n\n       READHR   STUDYHR      TVHR  DIOPTERHR     MOMMY     DADMY          x  \\\n0    1.697450 -0.672996  0.184058   0.498304  0.987138  1.003241  13.261370   \n1   -0.912062 -0.221409 -0.340932  -0.875088  0.987138  1.003241  -0.784409   \n2   -0.912062 -0.672996  0.184058  -0.750234 -1.013030 -0.996769  -2.427552   \n3    2.676017 -0.672996 -0.865922   0.685585 -1.013030  1.003241 -12.101710   \n4   -0.912062 -0.672996 -0.865922  -1.374503  0.987138 -0.996769  13.028265   \n..        ...       ...       ...        ...       ...       ...        ...   \n613 -0.912062  0.681765  0.884045   0.685585  0.987138 -0.996769   1.004949   \n614 -0.912062 -0.672996 -0.165935  -0.999941  0.987138  1.003241  -0.122220   \n615 -0.912062 -0.672996 -0.865922  -1.374503  0.987138  1.003241   2.188279   \n616 -0.259684 -0.672996  1.059042  -0.188392 -1.013030 -0.996769 -10.624427   \n617 -0.912062 -0.672996  0.184058  -0.750234  0.987138  1.003241   2.422485   \n\n             y  \n0   -19.659344  \n1     1.304258  \n2    27.268339  \n3   -23.415033  \n4    15.104553  \n..         ...  \n613  11.030565  \n614   1.292108  \n615   2.128943  \n616  19.239626  \n617  -4.157116  \n\n[618 rows x 15 columns]"
     ]
    },
    {
     "data": {
      "image/png": "[encoded data removed]",
      "text/plain": [
       "<Figure size 432x288 with 1 Axes>"
      ]
     },
     "metadata": {
      "needs_background": "light"
     },
     "output_type": "display_data"
    }
   ],
   "source": [
    "# Visualize the clusters with color\n",
    "plt.scatter(mycleaned_df['x'], mycleaned_df['y'],c = labels)\n",
    "plt.show()"
   ]
  },
  {
   "cell_type": "code",
   "execution_count": null,
   "metadata": {},
   "outputs": [],
   "source": [
    "plt.scatter(df_myopia['AL'], df_myopia['TVHR'],c=labels \n",
    "plt.show()"
   ]
  },
  {
   "cell_type": "code",
   "execution_count": null,
   "metadata": {},
   "outputs": [],
   "source": []
  }
 ],
 "metadata": {
  "kernelspec": {
   "display_name": "Python 3 (ipykernel)",
   "language": "python",
   "name": "python3"
  },
  "language_info": {
   "codemirror_mode": {
    "name": "ipython",
    "version": 3
   },
   "file_extension": ".py",
   "mimetype": "text/x-python",
   "name": "python",
   "nbconvert_exporter": "python",
   "pygments_lexer": "ipython3",
   "version": "3.9.7"
  },
  "vscode": {
   "interpreter": {
    "hash": "2f85efbbc74d5efd11152b2c16d847560e292b503bd753c19a461da628ced8c0"
   }
  }
 },
 "nbformat": 4,
 "nbformat_minor": 2
}
